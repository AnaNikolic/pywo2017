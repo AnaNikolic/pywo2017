{
 "cells": [
  {
   "cell_type": "code",
   "execution_count": 1,
   "metadata": {
    "collapsed": true
   },
   "outputs": [],
   "source": [
    "d = {1: 'jedan', 'a':'slovo A'}\n",
    "\n",
    "#List comprehension\n",
    "L = [ 2*i for i in range (1,11)]"
   ]
  },
  {
   "cell_type": "code",
   "execution_count": 5,
   "metadata": {},
   "outputs": [
    {
     "data": {
      "text/plain": [
       "{2: '2',\n",
       " 4: '4',\n",
       " 6: '6',\n",
       " 8: '8',\n",
       " 10: '10',\n",
       " 12: '12',\n",
       " 14: '14',\n",
       " 16: '16',\n",
       " 18: '18',\n",
       " 20: '20'}"
      ]
     },
     "execution_count": 5,
     "metadata": {},
     "output_type": "execute_result"
    }
   ],
   "source": [
    "d2 = { k:str(k) for k in L}\n",
    "d2"
   ]
  },
  {
   "cell_type": "markdown",
   "metadata": {},
   "source": [
    "set"
   ]
  },
  {
   "cell_type": "code",
   "execution_count": 6,
   "metadata": {},
   "outputs": [
    {
     "data": {
      "text/plain": [
       "{2, 4, 6, 8, 10, 12, 14, 16, 18, 20}"
      ]
     },
     "execution_count": 6,
     "metadata": {},
     "output_type": "execute_result"
    }
   ],
   "source": [
    "{ k for k in L}"
   ]
  },
  {
   "cell_type": "code",
   "execution_count": 8,
   "metadata": {},
   "outputs": [
    {
     "name": "stdout",
     "output_type": "stream",
     "text": [
      "1 . 2\n",
      "2 . 4\n",
      "3 . 6\n",
      "4 . 8\n",
      "5 . 10\n",
      "6 . 12\n",
      "7 . 14\n",
      "8 . 16\n",
      "9 . 18\n",
      "10 . 20\n"
     ]
    }
   ],
   "source": [
    "i = 0\n",
    "for x in L:\n",
    "    i += 1\n",
    "    print(i, \".\", x)"
   ]
  },
  {
   "cell_type": "code",
   "execution_count": 13,
   "metadata": {},
   "outputs": [
    {
     "name": "stdout",
     "output_type": "stream",
     "text": [
      "1 jedan\n",
      "a slovo A\n"
     ]
    }
   ],
   "source": [
    "for k,v in d.items():\n",
    "    print(k,v)"
   ]
  },
  {
   "cell_type": "markdown",
   "metadata": {},
   "source": [
    "# Još malo o jupytheru (ipython)"
   ]
  },
  {
   "cell_type": "markdown",
   "metadata": {},
   "source": [
    "# Magics"
   ]
  },
  {
   "cell_type": "code",
   "execution_count": 15,
   "metadata": {},
   "outputs": [
    {
     "data": {
      "application/json": {
       "cell": {
        "!": "OSMagics",
        "HTML": "Other",
        "SVG": "Other",
        "bash": "Other",
        "capture": "ExecutionMagics",
        "cmd": "Other",
        "debug": "ExecutionMagics",
        "file": "Other",
        "html": "DisplayMagics",
        "javascript": "DisplayMagics",
        "js": "DisplayMagics",
        "latex": "DisplayMagics",
        "perl": "Other",
        "prun": "ExecutionMagics",
        "pypy": "Other",
        "python": "Other",
        "python2": "Other",
        "python3": "Other",
        "ruby": "Other",
        "script": "ScriptMagics",
        "sh": "Other",
        "svg": "DisplayMagics",
        "sx": "OSMagics",
        "system": "OSMagics",
        "time": "ExecutionMagics",
        "timeit": "ExecutionMagics",
        "writefile": "OSMagics"
       },
       "line": {
        "alias": "OSMagics",
        "alias_magic": "BasicMagics",
        "autocall": "AutoMagics",
        "automagic": "AutoMagics",
        "autosave": "KernelMagics",
        "bookmark": "OSMagics",
        "cd": "OSMagics",
        "clear": "KernelMagics",
        "cls": "KernelMagics",
        "colors": "BasicMagics",
        "config": "ConfigMagics",
        "connect_info": "KernelMagics",
        "copy": "Other",
        "ddir": "Other",
        "debug": "ExecutionMagics",
        "dhist": "OSMagics",
        "dirs": "OSMagics",
        "doctest_mode": "BasicMagics",
        "echo": "Other",
        "ed": "Other",
        "edit": "KernelMagics",
        "env": "OSMagics",
        "gui": "BasicMagics",
        "hist": "Other",
        "history": "HistoryMagics",
        "killbgscripts": "ScriptMagics",
        "ldir": "Other",
        "less": "KernelMagics",
        "load": "CodeMagics",
        "load_ext": "ExtensionMagics",
        "loadpy": "CodeMagics",
        "logoff": "LoggingMagics",
        "logon": "LoggingMagics",
        "logstart": "LoggingMagics",
        "logstate": "LoggingMagics",
        "logstop": "LoggingMagics",
        "ls": "Other",
        "lsmagic": "BasicMagics",
        "macro": "ExecutionMagics",
        "magic": "BasicMagics",
        "matplotlib": "PylabMagics",
        "mkdir": "Other",
        "more": "KernelMagics",
        "notebook": "BasicMagics",
        "page": "BasicMagics",
        "pastebin": "CodeMagics",
        "pdb": "ExecutionMagics",
        "pdef": "NamespaceMagics",
        "pdoc": "NamespaceMagics",
        "pfile": "NamespaceMagics",
        "pinfo": "NamespaceMagics",
        "pinfo2": "NamespaceMagics",
        "popd": "OSMagics",
        "pprint": "BasicMagics",
        "precision": "BasicMagics",
        "profile": "BasicMagics",
        "prun": "ExecutionMagics",
        "psearch": "NamespaceMagics",
        "psource": "NamespaceMagics",
        "pushd": "OSMagics",
        "pwd": "OSMagics",
        "pycat": "OSMagics",
        "pylab": "PylabMagics",
        "qtconsole": "KernelMagics",
        "quickref": "BasicMagics",
        "recall": "HistoryMagics",
        "rehashx": "OSMagics",
        "reload_ext": "ExtensionMagics",
        "ren": "Other",
        "rep": "Other",
        "rerun": "HistoryMagics",
        "reset": "NamespaceMagics",
        "reset_selective": "NamespaceMagics",
        "rmdir": "Other",
        "run": "ExecutionMagics",
        "save": "CodeMagics",
        "sc": "OSMagics",
        "set_env": "OSMagics",
        "store": "StoreMagics",
        "sx": "OSMagics",
        "system": "OSMagics",
        "tb": "ExecutionMagics",
        "time": "ExecutionMagics",
        "timeit": "ExecutionMagics",
        "unalias": "OSMagics",
        "unload_ext": "ExtensionMagics",
        "who": "NamespaceMagics",
        "who_ls": "NamespaceMagics",
        "whos": "NamespaceMagics",
        "xdel": "NamespaceMagics",
        "xmode": "BasicMagics"
       }
      },
      "text/plain": [
       "Available line magics:\n",
       "%alias  %alias_magic  %autocall  %automagic  %autosave  %bookmark  %cd  %clear  %cls  %colors  %config  %connect_info  %copy  %ddir  %debug  %dhist  %dirs  %doctest_mode  %echo  %ed  %edit  %env  %gui  %hist  %history  %killbgscripts  %ldir  %less  %load  %load_ext  %loadpy  %logoff  %logon  %logstart  %logstate  %logstop  %ls  %lsmagic  %macro  %magic  %matplotlib  %mkdir  %more  %notebook  %page  %pastebin  %pdb  %pdef  %pdoc  %pfile  %pinfo  %pinfo2  %popd  %pprint  %precision  %profile  %prun  %psearch  %psource  %pushd  %pwd  %pycat  %pylab  %qtconsole  %quickref  %recall  %rehashx  %reload_ext  %ren  %rep  %rerun  %reset  %reset_selective  %rmdir  %run  %save  %sc  %set_env  %store  %sx  %system  %tb  %time  %timeit  %unalias  %unload_ext  %who  %who_ls  %whos  %xdel  %xmode\n",
       "\n",
       "Available cell magics:\n",
       "%%!  %%HTML  %%SVG  %%bash  %%capture  %%cmd  %%debug  %%file  %%html  %%javascript  %%js  %%latex  %%perl  %%prun  %%pypy  %%python  %%python2  %%python3  %%ruby  %%script  %%sh  %%svg  %%sx  %%system  %%time  %%timeit  %%writefile\n",
       "\n",
       "Automagic is ON, % prefix IS NOT needed for line magics."
      ]
     },
     "execution_count": 15,
     "metadata": {},
     "output_type": "execute_result"
    }
   ],
   "source": [
    "%lsmagic"
   ]
  },
  {
   "cell_type": "code",
   "execution_count": 16,
   "metadata": {},
   "outputs": [
    {
     "name": "stdout",
     "output_type": "stream",
     "text": [
      "Writing fja.py\n"
     ]
    }
   ],
   "source": [
    "%%writefile \"fja.py\"\n",
    "def f(a, b):\n",
    "    pass"
   ]
  },
  {
   "cell_type": "code",
   "execution_count": null,
   "metadata": {
    "collapsed": true
   },
   "outputs": [],
   "source": [
    "# %load fja.py\n",
    "def f(a, b):\n",
    "    pass"
   ]
  },
  {
   "cell_type": "code",
   "execution_count": 19,
   "metadata": {},
   "outputs": [
    {
     "name": "stdout",
     "output_type": "stream",
     "text": [
      "Hello world!\n"
     ]
    }
   ],
   "source": [
    "run hello_world.ipynb"
   ]
  },
  {
   "cell_type": "code",
   "execution_count": 20,
   "metadata": {},
   "outputs": [
    {
     "name": "stdout",
     "output_type": "stream",
     "text": [
      "Variable   Type    Data/Info\n",
      "----------------------------\n",
      "L          list    n=10\n",
      "d          dict    n=2\n",
      "d2         dict    n=10\n",
      "i          int     10\n",
      "k          str     a\n",
      "v          str     slovo A\n",
      "x          int     20\n"
     ]
    }
   ],
   "source": [
    "%whos"
   ]
  },
  {
   "cell_type": "code",
   "execution_count": null,
   "metadata": {
    "collapsed": true
   },
   "outputs": [],
   "source": [
    "%pdb"
   ]
  },
  {
   "cell_type": "code",
   "execution_count": 21,
   "metadata": {},
   "outputs": [
    {
     "name": "stderr",
     "output_type": "stream",
     "text": [
      "UsageError: %%html is a cell magic, but the cell body is empty.\n"
     ]
    }
   ],
   "source": [
    "%%html\n",
    "Javascript...."
   ]
  },
  {
   "cell_type": "code",
   "execution_count": null,
   "metadata": {
    "collapsed": true
   },
   "outputs": [],
   "source": [
    "from IPython.core,display import HTML"
   ]
  },
  {
   "cell_type": "code",
   "execution_count": 22,
   "metadata": {},
   "outputs": [
    {
     "data": {
      "text/plain": [
       "{'In': ['',\n",
       "  \"d = {1: 'jedan', 'a':'slovo A'}\\n\\n#List comprehension\\nL = [ 2*i for i in range (1,11)]\",\n",
       "  'd2 = { k:v for k in L}',\n",
       "  'd2 = { k:str(k) for k in L}',\n",
       "  'd2 = { k:str(k) for k in L}',\n",
       "  'd2 = { k:str(k) for k in L}\\nd2',\n",
       "  '{ k for k in L}',\n",
       "  'for x in L:',\n",
       "  'i = 0\\nfor x in L:\\n    i += 1\\n    print(i, \".\", x)',\n",
       "  'for k in d:\\n    print(k)',\n",
       "  'for k in d.values():\\n    print(v)',\n",
       "  'for k in d2.values():\\n    print(v)',\n",
       "  'for k,v in d.values():\\n    print(k,v)',\n",
       "  'for k,v in d.items():\\n    print(k,v)',\n",
       "  \"get_ipython().system('ls')\",\n",
       "  \"get_ipython().magic('lsmagic')\",\n",
       "  'get_ipython().run_cell_magic(\\'writefile\\', \\'\"fja.py\"\\', \\'def f(a, b):\\\\n    pass\\')',\n",
       "  \"get_ipython().magic('load fja.py')\",\n",
       "  \"get_ipython().magic('run hello_world.ipynb')\",\n",
       "  \"get_ipython().magic('run hello_world.ipynb')\",\n",
       "  \"get_ipython().magic('whos')\",\n",
       "  \"get_ipython().run_cell_magic('html', '', '')\",\n",
       "  'locals()'],\n",
       " 'L': [2, 4, 6, 8, 10, 12, 14, 16, 18, 20],\n",
       " 'Out': {5: {2: '2',\n",
       "   4: '4',\n",
       "   6: '6',\n",
       "   8: '8',\n",
       "   10: '10',\n",
       "   12: '12',\n",
       "   14: '14',\n",
       "   16: '16',\n",
       "   18: '18',\n",
       "   20: '20'},\n",
       "  6: {2, 4, 6, 8, 10, 12, 14, 16, 18, 20},\n",
       "  15: Available line magics:\n",
       "%alias  %alias_magic  %autocall  %automagic  %autosave  %bookmark  %cd  %clear  %cls  %colors  %config  %connect_info  %copy  %ddir  %debug  %dhist  %dirs  %doctest_mode  %echo  %ed  %edit  %env  %gui  %hist  %history  %killbgscripts  %ldir  %less  %load  %load_ext  %loadpy  %logoff  %logon  %logstart  %logstate  %logstop  %ls  %lsmagic  %macro  %magic  %matplotlib  %mkdir  %more  %notebook  %page  %pastebin  %pdb  %pdef  %pdoc  %pfile  %pinfo  %pinfo2  %popd  %pprint  %precision  %profile  %prun  %psearch  %psource  %pushd  %pwd  %pycat  %pylab  %qtconsole  %quickref  %recall  %rehashx  %reload_ext  %ren  %rep  %rerun  %reset  %reset_selective  %rmdir  %run  %save  %sc  %set_env  %store  %sx  %system  %tb  %time  %timeit  %unalias  %unload_ext  %who  %who_ls  %whos  %xdel  %xmode\n",
       "\n",
       "Available cell magics:\n",
       "%%!  %%HTML  %%SVG  %%bash  %%capture  %%cmd  %%debug  %%file  %%html  %%javascript  %%js  %%latex  %%perl  %%prun  %%pypy  %%python  %%python2  %%python3  %%ruby  %%script  %%sh  %%svg  %%sx  %%system  %%time  %%timeit  %%writefile\n",
       "\n",
       "Automagic is ON, % prefix IS NOT needed for line magics.},\n",
       " '_': Available line magics:\n",
       "%alias  %alias_magic  %autocall  %automagic  %autosave  %bookmark  %cd  %clear  %cls  %colors  %config  %connect_info  %copy  %ddir  %debug  %dhist  %dirs  %doctest_mode  %echo  %ed  %edit  %env  %gui  %hist  %history  %killbgscripts  %ldir  %less  %load  %load_ext  %loadpy  %logoff  %logon  %logstart  %logstate  %logstop  %ls  %lsmagic  %macro  %magic  %matplotlib  %mkdir  %more  %notebook  %page  %pastebin  %pdb  %pdef  %pdoc  %pfile  %pinfo  %pinfo2  %popd  %pprint  %precision  %profile  %prun  %psearch  %psource  %pushd  %pwd  %pycat  %pylab  %qtconsole  %quickref  %recall  %rehashx  %reload_ext  %ren  %rep  %rerun  %reset  %reset_selective  %rmdir  %run  %save  %sc  %set_env  %store  %sx  %system  %tb  %time  %timeit  %unalias  %unload_ext  %who  %who_ls  %whos  %xdel  %xmode\n",
       "\n",
       "Available cell magics:\n",
       "%%!  %%HTML  %%SVG  %%bash  %%capture  %%cmd  %%debug  %%file  %%html  %%javascript  %%js  %%latex  %%perl  %%prun  %%pypy  %%python  %%python2  %%python3  %%ruby  %%script  %%sh  %%svg  %%sx  %%system  %%time  %%timeit  %%writefile\n",
       "\n",
       "Automagic is ON, % prefix IS NOT needed for line magics.,\n",
       " '_15': Available line magics:\n",
       "%alias  %alias_magic  %autocall  %automagic  %autosave  %bookmark  %cd  %clear  %cls  %colors  %config  %connect_info  %copy  %ddir  %debug  %dhist  %dirs  %doctest_mode  %echo  %ed  %edit  %env  %gui  %hist  %history  %killbgscripts  %ldir  %less  %load  %load_ext  %loadpy  %logoff  %logon  %logstart  %logstate  %logstop  %ls  %lsmagic  %macro  %magic  %matplotlib  %mkdir  %more  %notebook  %page  %pastebin  %pdb  %pdef  %pdoc  %pfile  %pinfo  %pinfo2  %popd  %pprint  %precision  %profile  %prun  %psearch  %psource  %pushd  %pwd  %pycat  %pylab  %qtconsole  %quickref  %recall  %rehashx  %reload_ext  %ren  %rep  %rerun  %reset  %reset_selective  %rmdir  %run  %save  %sc  %set_env  %store  %sx  %system  %tb  %time  %timeit  %unalias  %unload_ext  %who  %who_ls  %whos  %xdel  %xmode\n",
       "\n",
       "Available cell magics:\n",
       "%%!  %%HTML  %%SVG  %%bash  %%capture  %%cmd  %%debug  %%file  %%html  %%javascript  %%js  %%latex  %%perl  %%prun  %%pypy  %%python  %%python2  %%python3  %%ruby  %%script  %%sh  %%svg  %%sx  %%system  %%time  %%timeit  %%writefile\n",
       "\n",
       "Automagic is ON, % prefix IS NOT needed for line magics.,\n",
       " '_5': {2: '2',\n",
       "  4: '4',\n",
       "  6: '6',\n",
       "  8: '8',\n",
       "  10: '10',\n",
       "  12: '12',\n",
       "  14: '14',\n",
       "  16: '16',\n",
       "  18: '18',\n",
       "  20: '20'},\n",
       " '_6': {2, 4, 6, 8, 10, 12, 14, 16, 18, 20},\n",
       " '__': {2, 4, 6, 8, 10, 12, 14, 16, 18, 20},\n",
       " '___': {2: '2',\n",
       "  4: '4',\n",
       "  6: '6',\n",
       "  8: '8',\n",
       "  10: '10',\n",
       "  12: '12',\n",
       "  14: '14',\n",
       "  16: '16',\n",
       "  18: '18',\n",
       "  20: '20'},\n",
       " '__builtin__': <module 'builtins' (built-in)>,\n",
       " '__builtins__': <module 'builtins' (built-in)>,\n",
       " '__doc__': 'Automatically created module for IPython interactive environment',\n",
       " '__loader__': None,\n",
       " '__name__': '__main__',\n",
       " '__package__': None,\n",
       " '__spec__': None,\n",
       " '_dh': ['C:\\\\Users\\\\anikolic\\\\PYWO\\\\MY\\\\S02'],\n",
       " '_exit_code': 1,\n",
       " '_i': '%%html',\n",
       " '_i1': \"d = {1: 'jedan', 'a':'slovo A'}\\n\\n#List comprehension\\nL = [ 2*i for i in range (1,11)]\",\n",
       " '_i10': 'for k in d.values():\\n    print(v)',\n",
       " '_i11': 'for k in d2.values():\\n    print(v)',\n",
       " '_i12': 'for k,v in d.values():\\n    print(k,v)',\n",
       " '_i13': 'for k,v in d.items():\\n    print(k,v)',\n",
       " '_i14': '!ls',\n",
       " '_i15': '%lsmagic',\n",
       " '_i16': '%%writefile \"fja.py\"\\ndef f(a, b):\\n    pass',\n",
       " '_i17': '%load fja.py',\n",
       " '_i18': 'run hello_world.ipynb',\n",
       " '_i19': 'run hello_world.ipynb',\n",
       " '_i2': 'd2 = { k:v for k in L}',\n",
       " '_i20': '%whos',\n",
       " '_i21': '%%html',\n",
       " '_i22': 'locals()',\n",
       " '_i3': 'd2 = { k:str(k) for k in L}',\n",
       " '_i4': 'd2 = { k:str(k) for k in L}',\n",
       " '_i5': 'd2 = { k:str(k) for k in L}\\nd2',\n",
       " '_i6': '{ k for k in L}',\n",
       " '_i7': 'for x in L:',\n",
       " '_i8': 'i = 0\\nfor x in L:\\n    i += 1\\n    print(i, \".\", x)',\n",
       " '_i9': 'for k in d:\\n    print(k)',\n",
       " '_ih': ['',\n",
       "  \"d = {1: 'jedan', 'a':'slovo A'}\\n\\n#List comprehension\\nL = [ 2*i for i in range (1,11)]\",\n",
       "  'd2 = { k:v for k in L}',\n",
       "  'd2 = { k:str(k) for k in L}',\n",
       "  'd2 = { k:str(k) for k in L}',\n",
       "  'd2 = { k:str(k) for k in L}\\nd2',\n",
       "  '{ k for k in L}',\n",
       "  'for x in L:',\n",
       "  'i = 0\\nfor x in L:\\n    i += 1\\n    print(i, \".\", x)',\n",
       "  'for k in d:\\n    print(k)',\n",
       "  'for k in d.values():\\n    print(v)',\n",
       "  'for k in d2.values():\\n    print(v)',\n",
       "  'for k,v in d.values():\\n    print(k,v)',\n",
       "  'for k,v in d.items():\\n    print(k,v)',\n",
       "  \"get_ipython().system('ls')\",\n",
       "  \"get_ipython().magic('lsmagic')\",\n",
       "  'get_ipython().run_cell_magic(\\'writefile\\', \\'\"fja.py\"\\', \\'def f(a, b):\\\\n    pass\\')',\n",
       "  \"get_ipython().magic('load fja.py')\",\n",
       "  \"get_ipython().magic('run hello_world.ipynb')\",\n",
       "  \"get_ipython().magic('run hello_world.ipynb')\",\n",
       "  \"get_ipython().magic('whos')\",\n",
       "  \"get_ipython().run_cell_magic('html', '', '')\",\n",
       "  'locals()'],\n",
       " '_ii': '%whos',\n",
       " '_iii': 'run hello_world.ipynb',\n",
       " '_oh': {5: {2: '2',\n",
       "   4: '4',\n",
       "   6: '6',\n",
       "   8: '8',\n",
       "   10: '10',\n",
       "   12: '12',\n",
       "   14: '14',\n",
       "   16: '16',\n",
       "   18: '18',\n",
       "   20: '20'},\n",
       "  6: {2, 4, 6, 8, 10, 12, 14, 16, 18, 20},\n",
       "  15: Available line magics:\n",
       "%alias  %alias_magic  %autocall  %automagic  %autosave  %bookmark  %cd  %clear  %cls  %colors  %config  %connect_info  %copy  %ddir  %debug  %dhist  %dirs  %doctest_mode  %echo  %ed  %edit  %env  %gui  %hist  %history  %killbgscripts  %ldir  %less  %load  %load_ext  %loadpy  %logoff  %logon  %logstart  %logstate  %logstop  %ls  %lsmagic  %macro  %magic  %matplotlib  %mkdir  %more  %notebook  %page  %pastebin  %pdb  %pdef  %pdoc  %pfile  %pinfo  %pinfo2  %popd  %pprint  %precision  %profile  %prun  %psearch  %psource  %pushd  %pwd  %pycat  %pylab  %qtconsole  %quickref  %recall  %rehashx  %reload_ext  %ren  %rep  %rerun  %reset  %reset_selective  %rmdir  %run  %save  %sc  %set_env  %store  %sx  %system  %tb  %time  %timeit  %unalias  %unload_ext  %who  %who_ls  %whos  %xdel  %xmode\n",
       "\n",
       "Available cell magics:\n",
       "%%!  %%HTML  %%SVG  %%bash  %%capture  %%cmd  %%debug  %%file  %%html  %%javascript  %%js  %%latex  %%perl  %%prun  %%pypy  %%python  %%python2  %%python3  %%ruby  %%script  %%sh  %%svg  %%sx  %%system  %%time  %%timeit  %%writefile\n",
       "\n",
       "Automagic is ON, % prefix IS NOT needed for line magics.},\n",
       " '_sh': <module 'IPython.core.shadowns' from 'C:\\\\Users\\\\anikolic\\\\Anaconda3\\\\lib\\\\site-packages\\\\IPython\\\\core\\\\shadowns.py'>,\n",
       " 'd': {1: 'jedan', 'a': 'slovo A'},\n",
       " 'd2': {2: '2',\n",
       "  4: '4',\n",
       "  6: '6',\n",
       "  8: '8',\n",
       "  10: '10',\n",
       "  12: '12',\n",
       "  14: '14',\n",
       "  16: '16',\n",
       "  18: '18',\n",
       "  20: '20'},\n",
       " 'exit': <IPython.core.autocall.ZMQExitAutocall at 0x26be0dd3898>,\n",
       " 'get_ipython': <bound method InteractiveShell.get_ipython of <ipykernel.zmqshell.ZMQInteractiveShell object at 0x0000026BE0D8B1D0>>,\n",
       " 'i': 10,\n",
       " 'k': 'a',\n",
       " 'quit': <IPython.core.autocall.ZMQExitAutocall at 0x26be0dd3898>,\n",
       " 'v': 'slovo A',\n",
       " 'x': 20}"
      ]
     },
     "execution_count": 22,
     "metadata": {},
     "output_type": "execute_result"
    }
   ],
   "source": [
    "locals()"
   ]
  },
  {
   "cell_type": "markdown",
   "metadata": {},
   "source": [
    "poziv iz funkcije . locals()"
   ]
  },
  {
   "cell_type": "code",
   "execution_count": 23,
   "metadata": {},
   "outputs": [
    {
     "data": {
      "text/plain": [
       "{'In': ['',\n",
       "  \"d = {1: 'jedan', 'a':'slovo A'}\\n\\n#List comprehension\\nL = [ 2*i for i in range (1,11)]\",\n",
       "  'd2 = { k:v for k in L}',\n",
       "  'd2 = { k:str(k) for k in L}',\n",
       "  'd2 = { k:str(k) for k in L}',\n",
       "  'd2 = { k:str(k) for k in L}\\nd2',\n",
       "  '{ k for k in L}',\n",
       "  'for x in L:',\n",
       "  'i = 0\\nfor x in L:\\n    i += 1\\n    print(i, \".\", x)',\n",
       "  'for k in d:\\n    print(k)',\n",
       "  'for k in d.values():\\n    print(v)',\n",
       "  'for k in d2.values():\\n    print(v)',\n",
       "  'for k,v in d.values():\\n    print(k,v)',\n",
       "  'for k,v in d.items():\\n    print(k,v)',\n",
       "  \"get_ipython().system('ls')\",\n",
       "  \"get_ipython().magic('lsmagic')\",\n",
       "  'get_ipython().run_cell_magic(\\'writefile\\', \\'\"fja.py\"\\', \\'def f(a, b):\\\\n    pass\\')',\n",
       "  \"get_ipython().magic('load fja.py')\",\n",
       "  \"get_ipython().magic('run hello_world.ipynb')\",\n",
       "  \"get_ipython().magic('run hello_world.ipynb')\",\n",
       "  \"get_ipython().magic('whos')\",\n",
       "  \"get_ipython().run_cell_magic('html', '', '')\",\n",
       "  'locals()',\n",
       "  'globals()'],\n",
       " 'L': [2, 4, 6, 8, 10, 12, 14, 16, 18, 20],\n",
       " 'Out': {5: {2: '2',\n",
       "   4: '4',\n",
       "   6: '6',\n",
       "   8: '8',\n",
       "   10: '10',\n",
       "   12: '12',\n",
       "   14: '14',\n",
       "   16: '16',\n",
       "   18: '18',\n",
       "   20: '20'},\n",
       "  6: {2, 4, 6, 8, 10, 12, 14, 16, 18, 20},\n",
       "  15: Available line magics:\n",
       "%alias  %alias_magic  %autocall  %automagic  %autosave  %bookmark  %cd  %clear  %cls  %colors  %config  %connect_info  %copy  %ddir  %debug  %dhist  %dirs  %doctest_mode  %echo  %ed  %edit  %env  %gui  %hist  %history  %killbgscripts  %ldir  %less  %load  %load_ext  %loadpy  %logoff  %logon  %logstart  %logstate  %logstop  %ls  %lsmagic  %macro  %magic  %matplotlib  %mkdir  %more  %notebook  %page  %pastebin  %pdb  %pdef  %pdoc  %pfile  %pinfo  %pinfo2  %popd  %pprint  %precision  %profile  %prun  %psearch  %psource  %pushd  %pwd  %pycat  %pylab  %qtconsole  %quickref  %recall  %rehashx  %reload_ext  %ren  %rep  %rerun  %reset  %reset_selective  %rmdir  %run  %save  %sc  %set_env  %store  %sx  %system  %tb  %time  %timeit  %unalias  %unload_ext  %who  %who_ls  %whos  %xdel  %xmode\n",
       "\n",
       "Available cell magics:\n",
       "%%!  %%HTML  %%SVG  %%bash  %%capture  %%cmd  %%debug  %%file  %%html  %%javascript  %%js  %%latex  %%perl  %%prun  %%pypy  %%python  %%python2  %%python3  %%ruby  %%script  %%sh  %%svg  %%sx  %%system  %%time  %%timeit  %%writefile\n",
       "\n",
       "Automagic is ON, % prefix IS NOT needed for line magics.,\n",
       "  22: {...}},\n",
       " '_': {...},\n",
       " '_15': Available line magics:\n",
       "%alias  %alias_magic  %autocall  %automagic  %autosave  %bookmark  %cd  %clear  %cls  %colors  %config  %connect_info  %copy  %ddir  %debug  %dhist  %dirs  %doctest_mode  %echo  %ed  %edit  %env  %gui  %hist  %history  %killbgscripts  %ldir  %less  %load  %load_ext  %loadpy  %logoff  %logon  %logstart  %logstate  %logstop  %ls  %lsmagic  %macro  %magic  %matplotlib  %mkdir  %more  %notebook  %page  %pastebin  %pdb  %pdef  %pdoc  %pfile  %pinfo  %pinfo2  %popd  %pprint  %precision  %profile  %prun  %psearch  %psource  %pushd  %pwd  %pycat  %pylab  %qtconsole  %quickref  %recall  %rehashx  %reload_ext  %ren  %rep  %rerun  %reset  %reset_selective  %rmdir  %run  %save  %sc  %set_env  %store  %sx  %system  %tb  %time  %timeit  %unalias  %unload_ext  %who  %who_ls  %whos  %xdel  %xmode\n",
       "\n",
       "Available cell magics:\n",
       "%%!  %%HTML  %%SVG  %%bash  %%capture  %%cmd  %%debug  %%file  %%html  %%javascript  %%js  %%latex  %%perl  %%prun  %%pypy  %%python  %%python2  %%python3  %%ruby  %%script  %%sh  %%svg  %%sx  %%system  %%time  %%timeit  %%writefile\n",
       "\n",
       "Automagic is ON, % prefix IS NOT needed for line magics.,\n",
       " '_22': {...},\n",
       " '_5': {2: '2',\n",
       "  4: '4',\n",
       "  6: '6',\n",
       "  8: '8',\n",
       "  10: '10',\n",
       "  12: '12',\n",
       "  14: '14',\n",
       "  16: '16',\n",
       "  18: '18',\n",
       "  20: '20'},\n",
       " '_6': {2, 4, 6, 8, 10, 12, 14, 16, 18, 20},\n",
       " '__': Available line magics:\n",
       "%alias  %alias_magic  %autocall  %automagic  %autosave  %bookmark  %cd  %clear  %cls  %colors  %config  %connect_info  %copy  %ddir  %debug  %dhist  %dirs  %doctest_mode  %echo  %ed  %edit  %env  %gui  %hist  %history  %killbgscripts  %ldir  %less  %load  %load_ext  %loadpy  %logoff  %logon  %logstart  %logstate  %logstop  %ls  %lsmagic  %macro  %magic  %matplotlib  %mkdir  %more  %notebook  %page  %pastebin  %pdb  %pdef  %pdoc  %pfile  %pinfo  %pinfo2  %popd  %pprint  %precision  %profile  %prun  %psearch  %psource  %pushd  %pwd  %pycat  %pylab  %qtconsole  %quickref  %recall  %rehashx  %reload_ext  %ren  %rep  %rerun  %reset  %reset_selective  %rmdir  %run  %save  %sc  %set_env  %store  %sx  %system  %tb  %time  %timeit  %unalias  %unload_ext  %who  %who_ls  %whos  %xdel  %xmode\n",
       "\n",
       "Available cell magics:\n",
       "%%!  %%HTML  %%SVG  %%bash  %%capture  %%cmd  %%debug  %%file  %%html  %%javascript  %%js  %%latex  %%perl  %%prun  %%pypy  %%python  %%python2  %%python3  %%ruby  %%script  %%sh  %%svg  %%sx  %%system  %%time  %%timeit  %%writefile\n",
       "\n",
       "Automagic is ON, % prefix IS NOT needed for line magics.,\n",
       " '___': {2, 4, 6, 8, 10, 12, 14, 16, 18, 20},\n",
       " '__builtin__': <module 'builtins' (built-in)>,\n",
       " '__builtins__': <module 'builtins' (built-in)>,\n",
       " '__doc__': 'Automatically created module for IPython interactive environment',\n",
       " '__loader__': None,\n",
       " '__name__': '__main__',\n",
       " '__package__': None,\n",
       " '__spec__': None,\n",
       " '_dh': ['C:\\\\Users\\\\anikolic\\\\PYWO\\\\MY\\\\S02'],\n",
       " '_exit_code': 1,\n",
       " '_i': 'locals()',\n",
       " '_i1': \"d = {1: 'jedan', 'a':'slovo A'}\\n\\n#List comprehension\\nL = [ 2*i for i in range (1,11)]\",\n",
       " '_i10': 'for k in d.values():\\n    print(v)',\n",
       " '_i11': 'for k in d2.values():\\n    print(v)',\n",
       " '_i12': 'for k,v in d.values():\\n    print(k,v)',\n",
       " '_i13': 'for k,v in d.items():\\n    print(k,v)',\n",
       " '_i14': '!ls',\n",
       " '_i15': '%lsmagic',\n",
       " '_i16': '%%writefile \"fja.py\"\\ndef f(a, b):\\n    pass',\n",
       " '_i17': '%load fja.py',\n",
       " '_i18': 'run hello_world.ipynb',\n",
       " '_i19': 'run hello_world.ipynb',\n",
       " '_i2': 'd2 = { k:v for k in L}',\n",
       " '_i20': '%whos',\n",
       " '_i21': '%%html',\n",
       " '_i22': 'locals()',\n",
       " '_i23': 'globals()',\n",
       " '_i3': 'd2 = { k:str(k) for k in L}',\n",
       " '_i4': 'd2 = { k:str(k) for k in L}',\n",
       " '_i5': 'd2 = { k:str(k) for k in L}\\nd2',\n",
       " '_i6': '{ k for k in L}',\n",
       " '_i7': 'for x in L:',\n",
       " '_i8': 'i = 0\\nfor x in L:\\n    i += 1\\n    print(i, \".\", x)',\n",
       " '_i9': 'for k in d:\\n    print(k)',\n",
       " '_ih': ['',\n",
       "  \"d = {1: 'jedan', 'a':'slovo A'}\\n\\n#List comprehension\\nL = [ 2*i for i in range (1,11)]\",\n",
       "  'd2 = { k:v for k in L}',\n",
       "  'd2 = { k:str(k) for k in L}',\n",
       "  'd2 = { k:str(k) for k in L}',\n",
       "  'd2 = { k:str(k) for k in L}\\nd2',\n",
       "  '{ k for k in L}',\n",
       "  'for x in L:',\n",
       "  'i = 0\\nfor x in L:\\n    i += 1\\n    print(i, \".\", x)',\n",
       "  'for k in d:\\n    print(k)',\n",
       "  'for k in d.values():\\n    print(v)',\n",
       "  'for k in d2.values():\\n    print(v)',\n",
       "  'for k,v in d.values():\\n    print(k,v)',\n",
       "  'for k,v in d.items():\\n    print(k,v)',\n",
       "  \"get_ipython().system('ls')\",\n",
       "  \"get_ipython().magic('lsmagic')\",\n",
       "  'get_ipython().run_cell_magic(\\'writefile\\', \\'\"fja.py\"\\', \\'def f(a, b):\\\\n    pass\\')',\n",
       "  \"get_ipython().magic('load fja.py')\",\n",
       "  \"get_ipython().magic('run hello_world.ipynb')\",\n",
       "  \"get_ipython().magic('run hello_world.ipynb')\",\n",
       "  \"get_ipython().magic('whos')\",\n",
       "  \"get_ipython().run_cell_magic('html', '', '')\",\n",
       "  'locals()',\n",
       "  'globals()'],\n",
       " '_ii': '%%html',\n",
       " '_iii': '%whos',\n",
       " '_oh': {5: {2: '2',\n",
       "   4: '4',\n",
       "   6: '6',\n",
       "   8: '8',\n",
       "   10: '10',\n",
       "   12: '12',\n",
       "   14: '14',\n",
       "   16: '16',\n",
       "   18: '18',\n",
       "   20: '20'},\n",
       "  6: {2, 4, 6, 8, 10, 12, 14, 16, 18, 20},\n",
       "  15: Available line magics:\n",
       "%alias  %alias_magic  %autocall  %automagic  %autosave  %bookmark  %cd  %clear  %cls  %colors  %config  %connect_info  %copy  %ddir  %debug  %dhist  %dirs  %doctest_mode  %echo  %ed  %edit  %env  %gui  %hist  %history  %killbgscripts  %ldir  %less  %load  %load_ext  %loadpy  %logoff  %logon  %logstart  %logstate  %logstop  %ls  %lsmagic  %macro  %magic  %matplotlib  %mkdir  %more  %notebook  %page  %pastebin  %pdb  %pdef  %pdoc  %pfile  %pinfo  %pinfo2  %popd  %pprint  %precision  %profile  %prun  %psearch  %psource  %pushd  %pwd  %pycat  %pylab  %qtconsole  %quickref  %recall  %rehashx  %reload_ext  %ren  %rep  %rerun  %reset  %reset_selective  %rmdir  %run  %save  %sc  %set_env  %store  %sx  %system  %tb  %time  %timeit  %unalias  %unload_ext  %who  %who_ls  %whos  %xdel  %xmode\n",
       "\n",
       "Available cell magics:\n",
       "%%!  %%HTML  %%SVG  %%bash  %%capture  %%cmd  %%debug  %%file  %%html  %%javascript  %%js  %%latex  %%perl  %%prun  %%pypy  %%python  %%python2  %%python3  %%ruby  %%script  %%sh  %%svg  %%sx  %%system  %%time  %%timeit  %%writefile\n",
       "\n",
       "Automagic is ON, % prefix IS NOT needed for line magics.,\n",
       "  22: {...}},\n",
       " '_sh': <module 'IPython.core.shadowns' from 'C:\\\\Users\\\\anikolic\\\\Anaconda3\\\\lib\\\\site-packages\\\\IPython\\\\core\\\\shadowns.py'>,\n",
       " 'd': {1: 'jedan', 'a': 'slovo A'},\n",
       " 'd2': {2: '2',\n",
       "  4: '4',\n",
       "  6: '6',\n",
       "  8: '8',\n",
       "  10: '10',\n",
       "  12: '12',\n",
       "  14: '14',\n",
       "  16: '16',\n",
       "  18: '18',\n",
       "  20: '20'},\n",
       " 'exit': <IPython.core.autocall.ZMQExitAutocall at 0x26be0dd3898>,\n",
       " 'get_ipython': <bound method InteractiveShell.get_ipython of <ipykernel.zmqshell.ZMQInteractiveShell object at 0x0000026BE0D8B1D0>>,\n",
       " 'i': 10,\n",
       " 'k': 'a',\n",
       " 'quit': <IPython.core.autocall.ZMQExitAutocall at 0x26be0dd3898>,\n",
       " 'v': 'slovo A',\n",
       " 'x': 20}"
      ]
     },
     "execution_count": 23,
     "metadata": {},
     "output_type": "execute_result"
    }
   ],
   "source": [
    "globals()"
   ]
  },
  {
   "cell_type": "markdown",
   "metadata": {},
   "source": [
    "# zadatak: lista listi 5x5 u excel, procitat ecxel"
   ]
  },
  {
   "cell_type": "code",
   "execution_count": 64,
   "metadata": {
    "collapsed": true
   },
   "outputs": [],
   "source": [
    "import xlrd"
   ]
  },
  {
   "cell_type": "code",
   "execution_count": 65,
   "metadata": {
    "collapsed": true
   },
   "outputs": [],
   "source": [
    "import openpyxl"
   ]
  },
  {
   "cell_type": "code",
   "execution_count": 66,
   "metadata": {
    "collapsed": true
   },
   "outputs": [],
   "source": [
    "from openpyxl import Workbook"
   ]
  },
  {
   "cell_type": "code",
   "execution_count": 67,
   "metadata": {},
   "outputs": [],
   "source": [
    "lista = [[(i, j)for j in range (1,6)] for i in range(1, 6)]"
   ]
  },
  {
   "cell_type": "code",
   "execution_count": 68,
   "metadata": {
    "collapsed": true
   },
   "outputs": [],
   "source": [
    "wb = Workbook()"
   ]
  },
  {
   "cell_type": "code",
   "execution_count": 69,
   "metadata": {},
   "outputs": [],
   "source": [
    "ws = wb.active"
   ]
  },
  {
   "cell_type": "code",
   "execution_count": null,
   "metadata": {},
   "outputs": [],
   "source": []
  },
  {
   "cell_type": "code",
   "execution_count": 70,
   "metadata": {},
   "outputs": [],
   "source": [
    "for i in lista:\n",
    "    for j in i:\n",
    "        ws.append(j)"
   ]
  },
  {
   "cell_type": "code",
   "execution_count": 71,
   "metadata": {},
   "outputs": [],
   "source": [
    "wb.save(\"trial.xlsx\")"
   ]
  },
  {
   "cell_type": "markdown",
   "metadata": {},
   "source": [
    "---> dovrsi"
   ]
  },
  {
   "cell_type": "code",
   "execution_count": 47,
   "metadata": {
    "collapsed": true
   },
   "outputs": [],
   "source": [
    "import pandas as pd"
   ]
  },
  {
   "cell_type": "code",
   "execution_count": 72,
   "metadata": {},
   "outputs": [
    {
     "data": {
      "text/html": [
       "<div>\n",
       "<style>\n",
       "    .dataframe thead tr:only-child th {\n",
       "        text-align: right;\n",
       "    }\n",
       "\n",
       "    .dataframe thead th {\n",
       "        text-align: left;\n",
       "    }\n",
       "\n",
       "    .dataframe tbody tr th {\n",
       "        vertical-align: top;\n",
       "    }\n",
       "</style>\n",
       "<table border=\"1\" class=\"dataframe\">\n",
       "  <thead>\n",
       "    <tr style=\"text-align: right;\">\n",
       "      <th></th>\n",
       "      <th>1</th>\n",
       "      <th>1.1</th>\n",
       "    </tr>\n",
       "  </thead>\n",
       "  <tbody>\n",
       "    <tr>\n",
       "      <th>0</th>\n",
       "      <td>1</td>\n",
       "      <td>2</td>\n",
       "    </tr>\n",
       "    <tr>\n",
       "      <th>1</th>\n",
       "      <td>1</td>\n",
       "      <td>3</td>\n",
       "    </tr>\n",
       "    <tr>\n",
       "      <th>2</th>\n",
       "      <td>1</td>\n",
       "      <td>4</td>\n",
       "    </tr>\n",
       "    <tr>\n",
       "      <th>3</th>\n",
       "      <td>1</td>\n",
       "      <td>5</td>\n",
       "    </tr>\n",
       "    <tr>\n",
       "      <th>4</th>\n",
       "      <td>2</td>\n",
       "      <td>1</td>\n",
       "    </tr>\n",
       "    <tr>\n",
       "      <th>5</th>\n",
       "      <td>2</td>\n",
       "      <td>2</td>\n",
       "    </tr>\n",
       "    <tr>\n",
       "      <th>6</th>\n",
       "      <td>2</td>\n",
       "      <td>3</td>\n",
       "    </tr>\n",
       "    <tr>\n",
       "      <th>7</th>\n",
       "      <td>2</td>\n",
       "      <td>4</td>\n",
       "    </tr>\n",
       "    <tr>\n",
       "      <th>8</th>\n",
       "      <td>2</td>\n",
       "      <td>5</td>\n",
       "    </tr>\n",
       "    <tr>\n",
       "      <th>9</th>\n",
       "      <td>3</td>\n",
       "      <td>1</td>\n",
       "    </tr>\n",
       "    <tr>\n",
       "      <th>10</th>\n",
       "      <td>3</td>\n",
       "      <td>2</td>\n",
       "    </tr>\n",
       "    <tr>\n",
       "      <th>11</th>\n",
       "      <td>3</td>\n",
       "      <td>3</td>\n",
       "    </tr>\n",
       "    <tr>\n",
       "      <th>12</th>\n",
       "      <td>3</td>\n",
       "      <td>4</td>\n",
       "    </tr>\n",
       "    <tr>\n",
       "      <th>13</th>\n",
       "      <td>3</td>\n",
       "      <td>5</td>\n",
       "    </tr>\n",
       "    <tr>\n",
       "      <th>14</th>\n",
       "      <td>4</td>\n",
       "      <td>1</td>\n",
       "    </tr>\n",
       "    <tr>\n",
       "      <th>15</th>\n",
       "      <td>4</td>\n",
       "      <td>2</td>\n",
       "    </tr>\n",
       "    <tr>\n",
       "      <th>16</th>\n",
       "      <td>4</td>\n",
       "      <td>3</td>\n",
       "    </tr>\n",
       "    <tr>\n",
       "      <th>17</th>\n",
       "      <td>4</td>\n",
       "      <td>4</td>\n",
       "    </tr>\n",
       "    <tr>\n",
       "      <th>18</th>\n",
       "      <td>4</td>\n",
       "      <td>5</td>\n",
       "    </tr>\n",
       "    <tr>\n",
       "      <th>19</th>\n",
       "      <td>5</td>\n",
       "      <td>1</td>\n",
       "    </tr>\n",
       "    <tr>\n",
       "      <th>20</th>\n",
       "      <td>5</td>\n",
       "      <td>2</td>\n",
       "    </tr>\n",
       "    <tr>\n",
       "      <th>21</th>\n",
       "      <td>5</td>\n",
       "      <td>3</td>\n",
       "    </tr>\n",
       "    <tr>\n",
       "      <th>22</th>\n",
       "      <td>5</td>\n",
       "      <td>4</td>\n",
       "    </tr>\n",
       "    <tr>\n",
       "      <th>23</th>\n",
       "      <td>5</td>\n",
       "      <td>5</td>\n",
       "    </tr>\n",
       "  </tbody>\n",
       "</table>\n",
       "</div>"
      ],
      "text/plain": [
       "    1  1.1\n",
       "0   1    2\n",
       "1   1    3\n",
       "2   1    4\n",
       "3   1    5\n",
       "4   2    1\n",
       "5   2    2\n",
       "6   2    3\n",
       "7   2    4\n",
       "8   2    5\n",
       "9   3    1\n",
       "10  3    2\n",
       "11  3    3\n",
       "12  3    4\n",
       "13  3    5\n",
       "14  4    1\n",
       "15  4    2\n",
       "16  4    3\n",
       "17  4    4\n",
       "18  4    5\n",
       "19  5    1\n",
       "20  5    2\n",
       "21  5    3\n",
       "22  5    4\n",
       "23  5    5"
      ]
     },
     "execution_count": 72,
     "metadata": {},
     "output_type": "execute_result"
    }
   ],
   "source": [
    "df = pd.read_excel(\"trial.xlsx\")\n",
    "df"
   ]
  },
  {
   "cell_type": "code",
   "execution_count": 74,
   "metadata": {},
   "outputs": [
    {
     "name": "stdout",
     "output_type": "stream",
     "text": [
      "Collecting tabulate\n",
      "  Downloading tabulate-0.7.7-py2.py3-none-any.whl\n",
      "Installing collected packages: tabulate\n",
      "Successfully installed tabulate-0.7.7\n"
     ]
    }
   ],
   "source": [
    "!pip install tabulate"
   ]
  },
  {
   "cell_type": "code",
   "execution_count": 75,
   "metadata": {
    "collapsed": true
   },
   "outputs": [],
   "source": [
    "import tabulate"
   ]
  },
  {
   "cell_type": "code",
   "execution_count": null,
   "metadata": {
    "collapsed": true
   },
   "outputs": [],
   "source": []
  }
 ],
 "metadata": {
  "kernelspec": {
   "display_name": "Python 3",
   "language": "python",
   "name": "python3"
  },
  "language_info": {
   "codemirror_mode": {
    "name": "ipython",
    "version": 3
   },
   "file_extension": ".py",
   "mimetype": "text/x-python",
   "name": "python",
   "nbconvert_exporter": "python",
   "pygments_lexer": "ipython3",
   "version": "3.6.1"
  }
 },
 "nbformat": 4,
 "nbformat_minor": 2
}
